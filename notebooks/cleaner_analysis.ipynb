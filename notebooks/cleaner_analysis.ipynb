{
 "cells": [
  {
   "cell_type": "markdown",
   "metadata": {},
   "source": [
    "## imports, etc."
   ]
  },
  {
   "cell_type": "code",
   "execution_count": 1,
   "metadata": {},
   "outputs": [],
   "source": [
    "%matplotlib inline\n",
    "%load_ext autoreload\n",
    "%autoreload 2\n",
    "\n",
    "import numpy as np\n",
    "import torch\n",
    "import torchvision\n",
    "import torchvision.transforms as transforms\n",
    "from tqdm.notebook import tqdm\n",
    "import os\n",
    "from sklearn.semi_supervised import LabelPropagation\n",
    "from sklearn.neural_network import MLPClassifier\n",
    "from sklearn.datasets import fetch_openml\n",
    "import matplotlib.pyplot as plt"
   ]
  },
  {
   "cell_type": "code",
   "execution_count": 3,
   "metadata": {},
   "outputs": [],
   "source": [
    "Xv_train = torch.load(\"data/FashionMNIST_train_latent.pt\")\n",
    "Xv_test = torch.load(\"data/FashionMNIST_test_latent.pt\")\n",
    "Xv = torch.cat((Xv_train, Xv_test), 0)\n",
    "y_train = torch.load(\"data/FashionMNIST_train_labels.pt\")\n",
    "y_test = torch.load(\"data/FashionMNIST_test_labels.pt\")\n",
    "y = torch.cat((y_train, y_test), 0)"
   ]
  },
  {
   "cell_type": "code",
   "execution_count": 4,
   "metadata": {},
   "outputs": [],
   "source": [
    "Xa_train = torch.load(\"data/AE_train.pt\")\n",
    "Xa_test = torch.load(\"data/AE_test.pt\")\n",
    "Xa = torch.cat((Xa_train, Xa_test), 0).detach().cpu()"
   ]
  },
  {
   "cell_type": "code",
   "execution_count": 5,
   "metadata": {},
   "outputs": [],
   "source": [
    "os.chdir(\"../fashion_ml\")"
   ]
  },
  {
   "cell_type": "code",
   "execution_count": 6,
   "metadata": {},
   "outputs": [],
   "source": [
    "from fashion_vae import FashionVAE\n",
    "from data_loader import EZ_Dataloader\n",
    "from experiment import FashionML"
   ]
  },
  {
   "cell_type": "code",
   "execution_count": 7,
   "metadata": {},
   "outputs": [],
   "source": [
    "import warnings\n",
    "warnings.filterwarnings(\"ignore\")"
   ]
  },
  {
   "cell_type": "code",
   "execution_count": 108,
   "metadata": {},
   "outputs": [],
   "source": [
    "trainset = torchvision.datasets.FashionMNIST(root = \"./data\", train = True,\n",
    "                                             download = True, transform = transforms.ToTensor())\n",
    "testset = torchvision.datasets.FashionMNIST(root = \"./data\", train = False,\n",
    "                                            download = True, transform = transforms.ToTensor())"
   ]
  },
  {
   "cell_type": "code",
   "execution_count": 109,
   "metadata": {},
   "outputs": [],
   "source": [
    "Xf_train = trainset.data\n",
    "yf_train = trainset.targets\n",
    "Xf_test = testset.data\n",
    "yf_test = testset.targets"
   ]
  },
  {
   "cell_type": "code",
   "execution_count": 110,
   "metadata": {},
   "outputs": [],
   "source": [
    "Xf = torch.cat((Xf_train, Xf_test), 0)\n",
    "yf = torch.cat((yf_train, yf_test), 0)"
   ]
  },
  {
   "cell_type": "code",
   "execution_count": 111,
   "metadata": {},
   "outputs": [],
   "source": [
    "Xf = torch.reshape(Xf, (70000, 784))"
   ]
  },
  {
   "cell_type": "code",
   "execution_count": 2,
   "metadata": {},
   "outputs": [],
   "source": [
    "#np.random.seed(0)"
   ]
  },
  {
   "cell_type": "markdown",
   "metadata": {},
   "source": [
    "## limit data labels"
   ]
  },
  {
   "cell_type": "markdown",
   "metadata": {},
   "source": [
    "discard all but 200 random labels (we can increase the number but I feel like 1000+ doesn't really count as semi-supervised anymore)"
   ]
  },
  {
   "cell_type": "code",
   "execution_count": 8,
   "metadata": {},
   "outputs": [],
   "source": [
    "n_labeled = 200"
   ]
  },
  {
   "cell_type": "code",
   "execution_count": 9,
   "metadata": {},
   "outputs": [],
   "source": [
    "ind = np.random.randint(len(Xv), size=(n_labeled))\n",
    "y_lim = np.repeat(-1, len(y))\n",
    "y_lim[ind] = y[ind]"
   ]
  },
  {
   "cell_type": "markdown",
   "metadata": {},
   "source": [
    "## compare: clustering"
   ]
  },
  {
   "cell_type": "markdown",
   "metadata": {},
   "source": [
    "VAE - search for optimal k: 2 is optimal, anything over 3 predicts everything as the first class"
   ]
  },
  {
   "cell_type": "code",
   "execution_count": 10,
   "metadata": {},
   "outputs": [],
   "source": [
    "def test_knn(X, y, n):\n",
    "    lpm = LabelPropagation(kernel='knn',n_neighbors=n,n_jobs=-1,max_iter=5000)\n",
    "    lpm.fit(X, y_lim)\n",
    "    print(lpm.score(X, y))\n",
    "    y_pred = lpm.predict(X)\n",
    "    print(np.unique(y_pred))\n",
    "    return lpm"
   ]
  },
  {
   "cell_type": "code",
   "execution_count": 11,
   "metadata": {},
   "outputs": [
    {
     "name": "stdout",
     "output_type": "stream",
     "text": [
      "0.1028\n",
      "[0 1 2 3 4 5 6 7 8 9]\n"
     ]
    },
    {
     "data": {
      "text/plain": [
       "LabelPropagation(kernel='knn', max_iter=5000, n_jobs=-1, n_neighbors=2)"
      ]
     },
     "execution_count": 11,
     "metadata": {},
     "output_type": "execute_result"
    }
   ],
   "source": [
    "test_knn(Xv, y, 2)"
   ]
  },
  {
   "cell_type": "code",
   "execution_count": 12,
   "metadata": {},
   "outputs": [
    {
     "name": "stdout",
     "output_type": "stream",
     "text": [
      "0.1013\n",
      "[0 1 2 3 4 5 6 7 8 9]\n"
     ]
    },
    {
     "data": {
      "text/plain": [
       "LabelPropagation(kernel='knn', max_iter=5000, n_jobs=-1, n_neighbors=3)"
      ]
     },
     "execution_count": 12,
     "metadata": {},
     "output_type": "execute_result"
    }
   ],
   "source": [
    "test_knn(Xv, y, 3)"
   ]
  },
  {
   "cell_type": "code",
   "execution_count": 13,
   "metadata": {},
   "outputs": [
    {
     "name": "stdout",
     "output_type": "stream",
     "text": [
      "0.1\n",
      "[0]\n"
     ]
    },
    {
     "data": {
      "text/plain": [
       "LabelPropagation(kernel='knn', max_iter=5000, n_jobs=-1)"
      ]
     },
     "execution_count": 13,
     "metadata": {},
     "output_type": "execute_result"
    }
   ],
   "source": [
    "test_knn(Xv, y, 7)"
   ]
  },
  {
   "cell_type": "markdown",
   "metadata": {},
   "source": [
    "AE - search for optimal k: 2 still best. and accuracy is slightly better than for vae? "
   ]
  },
  {
   "cell_type": "code",
   "execution_count": 12,
   "metadata": {},
   "outputs": [
    {
     "name": "stdout",
     "output_type": "stream",
     "text": [
      "0.10335714285714286\n",
      "[0 1 2 3 4 5 6 7 8 9]\n"
     ]
    },
    {
     "data": {
      "text/plain": [
       "LabelPropagation(kernel='knn', max_iter=5000, n_jobs=-1, n_neighbors=2)"
      ]
     },
     "execution_count": 12,
     "metadata": {},
     "output_type": "execute_result"
    }
   ],
   "source": [
    "test_knn(Xa, y, 2)"
   ]
  },
  {
   "cell_type": "code",
   "execution_count": 13,
   "metadata": {},
   "outputs": [
    {
     "name": "stdout",
     "output_type": "stream",
     "text": [
      "0.10194285714285714\n",
      "[0 1 2 3 4 5 6 7 8 9]\n"
     ]
    },
    {
     "data": {
      "text/plain": [
       "LabelPropagation(kernel='knn', max_iter=5000, n_jobs=-1, n_neighbors=3)"
      ]
     },
     "execution_count": 13,
     "metadata": {},
     "output_type": "execute_result"
    }
   ],
   "source": [
    "test_knn(Xa, y, 3)"
   ]
  },
  {
   "cell_type": "code",
   "execution_count": 14,
   "metadata": {},
   "outputs": [
    {
     "name": "stdout",
     "output_type": "stream",
     "text": [
      "0.1\n",
      "[0]\n"
     ]
    },
    {
     "data": {
      "text/plain": [
       "LabelPropagation(kernel='knn', max_iter=5000, n_jobs=-1)"
      ]
     },
     "execution_count": 14,
     "metadata": {},
     "output_type": "execute_result"
    }
   ],
   "source": [
    "test_knn(Xa, y, 7)"
   ]
  },
  {
   "cell_type": "markdown",
   "metadata": {},
   "source": [
    "## compare: mlp"
   ]
  },
  {
   "cell_type": "markdown",
   "metadata": {},
   "source": [
    "test a few networks on vae latent representations"
   ]
  },
  {
   "cell_type": "code",
   "execution_count": 13,
   "metadata": {},
   "outputs": [],
   "source": [
    "Xv_train = Xv[y_lim != -1]\n",
    "Xv_test = Xv[y_lim == -1]\n",
    "y_train = y[y_lim != -1]\n",
    "y_test = y[y_lim == -1]"
   ]
  },
  {
   "cell_type": "code",
   "execution_count": 18,
   "metadata": {},
   "outputs": [
    {
     "data": {
      "text/plain": [
       "MLPClassifier(hidden_layer_sizes=(100, 20, 5))"
      ]
     },
     "execution_count": 18,
     "metadata": {},
     "output_type": "execute_result"
    }
   ],
   "source": [
    "clf = MLPClassifier(hidden_layer_sizes=(100,20,5), tol=1e-4)\n",
    "clf.fit(Xv_train, y_train)"
   ]
  },
  {
   "cell_type": "code",
   "execution_count": 19,
   "metadata": {},
   "outputs": [
    {
     "data": {
      "text/plain": [
       "0.4000859598853868"
      ]
     },
     "execution_count": 19,
     "metadata": {},
     "output_type": "execute_result"
    }
   ],
   "source": [
    "clf.score(Xv_test, y_test)"
   ]
  },
  {
   "cell_type": "code",
   "execution_count": 22,
   "metadata": {},
   "outputs": [
    {
     "data": {
      "text/plain": [
       "MLPClassifier(hidden_layer_sizes=(200, 100, 25, 5), tol=1e-05)"
      ]
     },
     "execution_count": 22,
     "metadata": {},
     "output_type": "execute_result"
    }
   ],
   "source": [
    "clf = MLPClassifier(hidden_layer_sizes=(200,100,25,5), tol=1e-5)\n",
    "clf.fit(Xv_train, y_train)"
   ]
  },
  {
   "cell_type": "code",
   "execution_count": 23,
   "metadata": {},
   "outputs": [
    {
     "data": {
      "text/plain": [
       "0.479054441260745"
      ]
     },
     "execution_count": 23,
     "metadata": {},
     "output_type": "execute_result"
    }
   ],
   "source": [
    "clf.score(Xv_test, y_test)"
   ]
  },
  {
   "cell_type": "markdown",
   "metadata": {},
   "source": [
    "test same networks on vanilla ae"
   ]
  },
  {
   "cell_type": "code",
   "execution_count": 15,
   "metadata": {},
   "outputs": [],
   "source": [
    "Xa_train = Xa[y_lim != -1]\n",
    "Xa_test = Xa[y_lim == -1]\n",
    "y_train = y[y_lim != -1]\n",
    "y_test = y[y_lim == -1]"
   ]
  },
  {
   "cell_type": "code",
   "execution_count": 16,
   "metadata": {},
   "outputs": [
    {
     "data": {
      "text/plain": [
       "MLPClassifier(hidden_layer_sizes=(100, 20, 5))"
      ]
     },
     "execution_count": 16,
     "metadata": {},
     "output_type": "execute_result"
    }
   ],
   "source": [
    "clf = MLPClassifier(hidden_layer_sizes=(100,20,5), tol=1e-4)\n",
    "clf.fit(Xa_train, y_train)"
   ]
  },
  {
   "cell_type": "code",
   "execution_count": 18,
   "metadata": {},
   "outputs": [
    {
     "data": {
      "text/plain": [
       "0.38530085959885385"
      ]
     },
     "execution_count": 18,
     "metadata": {},
     "output_type": "execute_result"
    }
   ],
   "source": [
    "clf.score(Xa_test, y_test)"
   ]
  },
  {
   "cell_type": "code",
   "execution_count": 21,
   "metadata": {},
   "outputs": [
    {
     "data": {
      "text/plain": [
       "MLPClassifier(hidden_layer_sizes=(200, 100, 25, 5), tol=1e-05)"
      ]
     },
     "execution_count": 21,
     "metadata": {},
     "output_type": "execute_result"
    }
   ],
   "source": [
    "clf = MLPClassifier(hidden_layer_sizes=(200,100,25,5), tol=1e-5)\n",
    "clf.fit(Xa_train, y_train)"
   ]
  },
  {
   "cell_type": "code",
   "execution_count": 22,
   "metadata": {},
   "outputs": [
    {
     "data": {
      "text/plain": [
       "0.531704871060172"
      ]
     },
     "execution_count": 22,
     "metadata": {},
     "output_type": "execute_result"
    }
   ],
   "source": [
    "clf.score(Xa_test, y_test)"
   ]
  },
  {
   "cell_type": "markdown",
   "metadata": {},
   "source": [
    "## test different numbers of points"
   ]
  },
  {
   "cell_type": "code",
   "execution_count": 122,
   "metadata": {},
   "outputs": [],
   "source": [
    "ns = [30, 50, 75, 100, 150, 200, 500, 750, 900, 1000, 1100, 1250, 1500, 1750, 2000]"
   ]
  },
  {
   "cell_type": "code",
   "execution_count": 123,
   "metadata": {},
   "outputs": [],
   "source": [
    "def rep(n, X_dat, y_dat, c):\n",
    "    ind = np.random.randint(len(y_dat), size=(n))\n",
    "    y_lim = np.repeat(-1, len(y_dat))\n",
    "    y_lim[ind] = y[ind]\n",
    "    X_train = X_dat[y_lim != -1]\n",
    "    X_test = X_dat[y_lim == -1]\n",
    "    y_train = y_dat[y_lim != -1]\n",
    "    y_test = y_dat[y_lim == -1]\n",
    "    if c:\n",
    "        clf = MLPClassifier(hidden_layer_sizes=(25,10,5), tol=1e-5)\n",
    "    else:\n",
    "        clf = MLPClassifier(hidden_layer_sizes=(200,100,25,5), tol=1e-5)\n",
    "    clf.fit(X_train, y_train)\n",
    "    return clf.score(X_test, y_test)"
   ]
  },
  {
   "cell_type": "code",
   "execution_count": 124,
   "metadata": {},
   "outputs": [],
   "source": [
    "def test_mlp(n, X_dat, y_dat, c=False):\n",
    "    max_score = rep(n, X_dat, y_dat, c)\n",
    "    for i in range(4):\n",
    "        score = rep(n, X_dat, y_dat, c)\n",
    "        if score > max_score:\n",
    "            max_score = score\n",
    "    return max_score"
   ]
  },
  {
   "cell_type": "code",
   "execution_count": 125,
   "metadata": {},
   "outputs": [],
   "source": [
    "res = []\n",
    "res2 = []\n",
    "res3 = []"
   ]
  },
  {
   "cell_type": "code",
   "execution_count": 126,
   "metadata": {},
   "outputs": [],
   "source": [
    "for n in ns:\n",
    "    res.append(test_mlp(n, Xv, y))\n",
    "    res2.append(test_mlp(n, Xa, y))\n",
    "    res3.append(test_mlp(n, Xf, yf))"
   ]
  },
  {
   "cell_type": "code",
   "execution_count": 127,
   "metadata": {},
   "outputs": [
    {
     "data": {
      "image/png": "[encoded data removed]",
      "text/plain": [
       "<Figure size 648x432 with 1 Axes>"
      ]
     },
     "metadata": {
      "needs_background": "light"
     },
     "output_type": "display_data"
    }
   ],
   "source": [
    "plt.figure(figsize=(9,6))\n",
    "plt.plot(ns, res)\n",
    "plt.plot(ns, res2)\n",
    "plt.plot(ns, res3)\n",
    "plt.show()"
   ]
  },
  {
   "cell_type": "markdown",
   "metadata": {},
   "source": [
    "On average, the VAE latent representations acheive better scores. For both latent representations, adding more data after about 1000 points does not make a big difference. This type of model is not working very well for the raw images. Below I model them separately with a more appropriate mlp model."
   ]
  },
  {
   "cell_type": "code",
   "execution_count": 128,
   "metadata": {},
   "outputs": [],
   "source": [
    "ns_new = [30, 50, 75, 100, 150, 200, 500, 750, 1000, 1500]"
   ]
  },
  {
   "cell_type": "code",
   "execution_count": 129,
   "metadata": {},
   "outputs": [],
   "source": [
    "res_ = []\n",
    "res2_ = []\n",
    "res3_ = []"
   ]
  },
  {
   "cell_type": "code",
   "execution_count": 130,
   "metadata": {},
   "outputs": [],
   "source": [
    "for n in ns_new:\n",
    "    res_.append(test_mlp(n, Xv, y))\n",
    "    res2_.append(test_mlp(n, Xa, y))\n",
    "    res3_.append(test_mlp(n, Xf, yf, True))"
   ]
  },
  {
   "cell_type": "code",
   "execution_count": 131,
   "metadata": {},
   "outputs": [
    {
     "data": {
      "image/png": "[encoded data removed]",
      "text/plain": [
       "<Figure size 648x432 with 1 Axes>"
      ]
     },
     "metadata": {
      "needs_background": "light"
     },
     "output_type": "display_data"
    }
   ],
   "source": [
    "plt.figure(figsize=(9,6))\n",
    "plt.plot(ns_new, res_)\n",
    "plt.plot(ns_new, res2_)\n",
    "plt.plot(ns_new, res3_)\n",
    "plt.show()"
   ]
  },
  {
   "cell_type": "code",
   "execution_count": null,
   "metadata": {},
   "outputs": [],
   "source": []
  }
 ],
 "metadata": {
  "kernelspec": {
   "display_name": "Python 3",
   "language": "python",
   "name": "python3"
  },
  "language_info": {
   "codemirror_mode": {
    "name": "ipython",
    "version": 3
   },
   "file_extension": ".py",
   "mimetype": "text/x-python",
   "name": "python",
   "nbconvert_exporter": "python",
   "pygments_lexer": "ipython3",
   "version": "3.8.5"
  }
 },
 "nbformat": 4,
 "nbformat_minor": 4
}
