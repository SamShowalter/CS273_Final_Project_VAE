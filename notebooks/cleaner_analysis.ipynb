{
 "cells": [
  {
   "cell_type": "markdown",
   "metadata": {},
   "source": [
    "## imports, etc."
   ]
  },
  {
   "cell_type": "code",
   "execution_count": 1,
   "metadata": {},
   "outputs": [],
   "source": [
    "%matplotlib inline\n",
    "%load_ext autoreload\n",
    "%autoreload 2\n",
    "\n",
    "import numpy as np\n",
    "import torch\n",
    "import torchvision\n",
    "import torchvision.transforms as transforms\n",
    "from tqdm.notebook import tqdm\n",
    "import os\n",
    "from sklearn.semi_supervised import LabelPropagation\n",
    "from sklearn.neural_network import MLPClassifier\n",
    "from sklearn.linear_model import LogisticRegression\n",
    "from sklearn.ensemble import RandomForestClassifier\n",
    "from sklearn.datasets import fetch_openml\n",
    "import matplotlib.pyplot as plt\n",
    "from matplotlib.lines import Line2D"
   ]
  },
  {
   "cell_type": "code",
   "execution_count": 2,
   "metadata": {},
   "outputs": [],
   "source": [
    "Xv_train = torch.load(\"data/FashionMNIST_train_latent.pt\")\n",
    "Xv_test = torch.load(\"data/FashionMNIST_test_latent.pt\")\n",
    "Xv = torch.cat((Xv_train, Xv_test), 0)\n",
    "y_train = torch.load(\"data/FashionMNIST_train_labels.pt\")\n",
    "y_test = torch.load(\"data/FashionMNIST_test_labels.pt\")\n",
    "y = torch.cat((y_train, y_test), 0)"
   ]
  },
  {
   "cell_type": "code",
   "execution_count": 3,
   "metadata": {},
   "outputs": [],
   "source": [
    "Xa_train_ = torch.load(\"data/AE_train.pt\")\n",
    "Xa_test_ = torch.load(\"data/AE_test.pt\")\n",
    "Xa = torch.cat((Xa_train_, Xa_test_), 0).detach().cpu()"
   ]
  },
  {
   "cell_type": "code",
   "execution_count": 4,
   "metadata": {},
   "outputs": [],
   "source": [
    "os.chdir(\"../fashion_ml\")"
   ]
  },
  {
   "cell_type": "code",
   "execution_count": 5,
   "metadata": {},
   "outputs": [],
   "source": [
    "from fashion_vae import FashionVAE\n",
    "from data_loader import EZ_Dataloader\n",
    "from experiment import FashionML"
   ]
  },
  {
   "cell_type": "code",
   "execution_count": 6,
   "metadata": {},
   "outputs": [],
   "source": [
    "import warnings\n",
    "warnings.filterwarnings(\"ignore\")"
   ]
  },
  {
   "cell_type": "code",
   "execution_count": 7,
   "metadata": {},
   "outputs": [],
   "source": [
    "trainset = torchvision.datasets.FashionMNIST(root = \"./data\", train = True,\n",
    "                                             download = True, transform = transforms.ToTensor())\n",
    "testset = torchvision.datasets.FashionMNIST(root = \"./data\", train = False,\n",
    "                                            download = True, transform = transforms.ToTensor())"
   ]
  },
  {
   "cell_type": "code",
   "execution_count": 8,
   "metadata": {},
   "outputs": [],
   "source": [
    "Xf_train = trainset.data\n",
    "yf_train = trainset.targets\n",
    "Xf_test = testset.data\n",
    "yf_test = testset.targets"
   ]
  },
  {
   "cell_type": "code",
   "execution_count": 9,
   "metadata": {},
   "outputs": [],
   "source": [
    "Xf = torch.cat((Xf_train, Xf_test), 0)\n",
    "yf = torch.cat((yf_train, yf_test), 0)"
   ]
  },
  {
   "cell_type": "code",
   "execution_count": 10,
   "metadata": {},
   "outputs": [],
   "source": [
    "Xf = torch.reshape(Xf, (70000, 784))"
   ]
  },
  {
   "cell_type": "code",
   "execution_count": 11,
   "metadata": {},
   "outputs": [],
   "source": [
    "#np.random.seed(0)"
   ]
  },
  {
   "cell_type": "markdown",
   "metadata": {},
   "source": [
    "## limit data labels"
   ]
  },
  {
   "cell_type": "markdown",
   "metadata": {},
   "source": [
    "discard all but 200 random labels (we can increase the number but I feel like 1000+ doesn't really count as semi-supervised anymore)"
   ]
  },
  {
   "cell_type": "code",
   "execution_count": 106,
   "metadata": {},
   "outputs": [],
   "source": [
    "n_labeled = 200"
   ]
  },
  {
   "cell_type": "code",
   "execution_count": 107,
   "metadata": {},
   "outputs": [],
   "source": [
    "ind = np.random.randint(len(Xv), size=(n_labeled))\n",
    "y_lim = np.repeat(-1, len(y))\n",
    "y_lim[ind] = y[ind]"
   ]
  },
  {
   "cell_type": "markdown",
   "metadata": {},
   "source": [
    "## compare: clustering"
   ]
  },
  {
   "cell_type": "code",
   "execution_count": 99,
   "metadata": {},
   "outputs": [],
   "source": [
    "Xv_train = Xv[y_lim != -1]\n",
    "Xv_test = Xv[y_lim == -1]\n",
    "y_train = y[y_lim != -1]\n",
    "y_test = y[y_lim == -1]"
   ]
  },
  {
   "cell_type": "code",
   "execution_count": 100,
   "metadata": {},
   "outputs": [],
   "source": [
    "Xa_train = Xa[y_lim != -1]\n",
    "Xa_test = Xa[y_lim == -1]\n",
    "y_train = y[y_lim != -1]\n",
    "y_test = y[y_lim == -1]"
   ]
  },
  {
   "cell_type": "code",
   "execution_count": 108,
   "metadata": {},
   "outputs": [],
   "source": [
    "Xf_train = Xf[y_lim != -1]\n",
    "Xf_test = Xf[y_lim == -1]\n",
    "yf_train = yf[y_lim != -1]\n",
    "yf_test = yf[y_lim == -1]"
   ]
  },
  {
   "cell_type": "code",
   "execution_count": 102,
   "metadata": {},
   "outputs": [],
   "source": [
    "def test_knn(X_train, y_train, X_test, y_test, n):\n",
    "    lpm = LabelPropagation(kernel='knn',n_neighbors=n,n_jobs=-1,max_iter=5000)\n",
    "    lpm.fit(X_train, y_train)\n",
    "    print(lpm.score(X_test, y_test))\n",
    "    return lpm"
   ]
  },
  {
   "cell_type": "markdown",
   "metadata": {},
   "source": [
    "VAE - optimal k=10"
   ]
  },
  {
   "cell_type": "code",
   "execution_count": 103,
   "metadata": {},
   "outputs": [
    {
     "name": "stdout",
     "output_type": "stream",
     "text": [
      "0.5427936962750717\n"
     ]
    },
    {
     "data": {
      "text/plain": [
       "LabelPropagation(kernel='knn', max_iter=5000, n_jobs=-1, n_neighbors=10)"
      ]
     },
     "execution_count": 103,
     "metadata": {},
     "output_type": "execute_result"
    }
   ],
   "source": [
    "test_knn(Xv_train, y_train,Xv_test,y_test, 10)"
   ]
  },
  {
   "cell_type": "markdown",
   "metadata": {},
   "source": [
    "AE: optimal k=6, better accuracy than VAE"
   ]
  },
  {
   "cell_type": "code",
   "execution_count": 104,
   "metadata": {},
   "outputs": [
    {
     "name": "stdout",
     "output_type": "stream",
     "text": [
      "0.6670630372492836\n"
     ]
    },
    {
     "data": {
      "text/plain": [
       "LabelPropagation(kernel='knn', max_iter=5000, n_jobs=-1, n_neighbors=6)"
      ]
     },
     "execution_count": 104,
     "metadata": {},
     "output_type": "execute_result"
    }
   ],
   "source": [
    "test_knn(Xa_train, y_train,Xa_test,y_test, 6)"
   ]
  },
  {
   "cell_type": "markdown",
   "metadata": {},
   "source": [
    "raw images: optimal k=3"
   ]
  },
  {
   "cell_type": "code",
   "execution_count": 109,
   "metadata": {},
   "outputs": [
    {
     "name": "stdout",
     "output_type": "stream",
     "text": [
      "0.6480945558739255\n"
     ]
    },
    {
     "data": {
      "text/plain": [
       "LabelPropagation(kernel='knn', max_iter=5000, n_jobs=-1, n_neighbors=3)"
      ]
     },
     "execution_count": 109,
     "metadata": {},
     "output_type": "execute_result"
    }
   ],
   "source": [
    "test_knn(Xf_train, yf_train, Xf_test, yf_test, 3)"
   ]
  },
  {
   "cell_type": "markdown",
   "metadata": {},
   "source": [
    "## compare: mlp"
   ]
  },
  {
   "cell_type": "markdown",
   "metadata": {},
   "source": [
    "test a few networks on vae latent representations"
   ]
  },
  {
   "cell_type": "code",
   "execution_count": 30,
   "metadata": {},
   "outputs": [],
   "source": [
    "Xv_train = Xv[y_lim != -1]\n",
    "Xv_test = Xv[y_lim == -1]\n",
    "y_train = y[y_lim != -1]\n",
    "y_test = y[y_lim == -1]"
   ]
  },
  {
   "cell_type": "code",
   "execution_count": 31,
   "metadata": {},
   "outputs": [
    {
     "data": {
      "text/plain": [
       "MLPClassifier(hidden_layer_sizes=(100, 20, 5))"
      ]
     },
     "execution_count": 31,
     "metadata": {},
     "output_type": "execute_result"
    }
   ],
   "source": [
    "clf = MLPClassifier(hidden_layer_sizes=(100,20,5), tol=1e-4)\n",
    "clf.fit(Xv_train, y_train)"
   ]
  },
  {
   "cell_type": "code",
   "execution_count": 32,
   "metadata": {},
   "outputs": [
    {
     "data": {
      "text/plain": [
       "0.2633200097419808"
      ]
     },
     "execution_count": 32,
     "metadata": {},
     "output_type": "execute_result"
    }
   ],
   "source": [
    "clf.score(Xv_test, y_test)"
   ]
  },
  {
   "cell_type": "code",
   "execution_count": 44,
   "metadata": {},
   "outputs": [
    {
     "data": {
      "text/plain": [
       "MLPClassifier(hidden_layer_sizes=(200, 100, 25, 5), tol=1e-07)"
      ]
     },
     "execution_count": 44,
     "metadata": {},
     "output_type": "execute_result"
    }
   ],
   "source": [
    "clf = MLPClassifier(hidden_layer_sizes=(200,100,25,5), tol=1e-7)\n",
    "clf.fit(Xv_train, y_train)"
   ]
  },
  {
   "cell_type": "code",
   "execution_count": 45,
   "metadata": {},
   "outputs": [
    {
     "data": {
      "text/plain": [
       "0.5036031002421169"
      ]
     },
     "execution_count": 45,
     "metadata": {},
     "output_type": "execute_result"
    }
   ],
   "source": [
    "clf.score(Xv_test, y_test)"
   ]
  },
  {
   "cell_type": "markdown",
   "metadata": {},
   "source": [
    "test same networks on vanilla ae"
   ]
  },
  {
   "cell_type": "code",
   "execution_count": 35,
   "metadata": {},
   "outputs": [],
   "source": [
    "Xa_train = Xa[y_lim != -1]\n",
    "Xa_test = Xa[y_lim == -1]\n",
    "y_train = y[y_lim != -1]\n",
    "y_test = y[y_lim == -1]"
   ]
  },
  {
   "cell_type": "code",
   "execution_count": 36,
   "metadata": {},
   "outputs": [
    {
     "data": {
      "text/plain": [
       "MLPClassifier(hidden_layer_sizes=(100, 20, 5))"
      ]
     },
     "execution_count": 36,
     "metadata": {},
     "output_type": "execute_result"
    }
   ],
   "source": [
    "clf = MLPClassifier(hidden_layer_sizes=(100,20,5), tol=1e-4)\n",
    "clf.fit(Xa_train, y_train)"
   ]
  },
  {
   "cell_type": "code",
   "execution_count": 37,
   "metadata": {},
   "outputs": [
    {
     "data": {
      "text/plain": [
       "0.4571137949313047"
      ]
     },
     "execution_count": 37,
     "metadata": {},
     "output_type": "execute_result"
    }
   ],
   "source": [
    "clf.score(Xa_test, y_test)"
   ]
  },
  {
   "cell_type": "code",
   "execution_count": 66,
   "metadata": {},
   "outputs": [
    {
     "data": {
      "text/plain": [
       "MLPClassifier(hidden_layer_sizes=(200, 100, 25, 5), tol=1e-07)"
      ]
     },
     "execution_count": 66,
     "metadata": {},
     "output_type": "execute_result"
    }
   ],
   "source": [
    "clf2 = MLPClassifier(hidden_layer_sizes=(200,100,25,5), tol=1e-7)\n",
    "clf2.fit(Xa_train, y_train)"
   ]
  },
  {
   "cell_type": "code",
   "execution_count": 67,
   "metadata": {},
   "outputs": [
    {
     "data": {
      "text/plain": [
       "0.44897637569662324"
      ]
     },
     "execution_count": 67,
     "metadata": {},
     "output_type": "execute_result"
    }
   ],
   "source": [
    "clf2.score(Xa_test, y_test)"
   ]
  },
  {
   "cell_type": "markdown",
   "metadata": {},
   "source": [
    "## test different numbers of points"
   ]
  },
  {
   "cell_type": "code",
   "execution_count": 11,
   "metadata": {},
   "outputs": [],
   "source": [
    "ns = [30, 50, 75, 100, 150, 200, 500, 750, 900, 1000, 1100, 1250, 1500, 1750, 2000]"
   ]
  },
  {
   "cell_type": "code",
   "execution_count": 12,
   "metadata": {},
   "outputs": [],
   "source": [
    "def rep(n, X_dat, y_dat, c):\n",
    "    ind = np.random.randint(len(y_dat), size=(n))\n",
    "    y_lim = np.repeat(-1, len(y_dat))\n",
    "    y_lim[ind] = y[ind]\n",
    "    X_train = X_dat[y_lim != -1]\n",
    "    X_test = X_dat[y_lim == -1]\n",
    "    y_train = y_dat[y_lim != -1]\n",
    "    y_test = y_dat[y_lim == -1]\n",
    "    if c:\n",
    "        clf = MLPClassifier(hidden_layer_sizes=(50,20,5), tol=1e-5)\n",
    "    else:\n",
    "        clf = MLPClassifier(hidden_layer_sizes=(200,100,25,5), tol=1e-5)\n",
    "    clf.fit(X_train, y_train)\n",
    "    return clf.score(X_test, y_test)"
   ]
  },
  {
   "cell_type": "code",
   "execution_count": 13,
   "metadata": {},
   "outputs": [],
   "source": [
    "def test_mlp(n, X_dat, y_dat, c=False):\n",
    "    max_score = rep(n, X_dat, y_dat, c)\n",
    "    for i in range(4):\n",
    "        score = rep(n, X_dat, y_dat, c)\n",
    "        if score > max_score:\n",
    "            max_score = score\n",
    "    return max_score"
   ]
  },
  {
   "cell_type": "code",
   "execution_count": 14,
   "metadata": {},
   "outputs": [],
   "source": [
    "res = []\n",
    "res2 = []\n",
    "res3 = []"
   ]
  },
  {
   "cell_type": "code",
   "execution_count": 23,
   "metadata": {},
   "outputs": [],
   "source": [
    "for n in ns:\n",
    "    res.append(test_mlp(n, Xv, y))\n",
    "    res2.append(test_mlp(n, Xa, y))\n",
    "    res3.append(test_mlp(n, Xf, yf, True))"
   ]
  },
  {
   "cell_type": "code",
   "execution_count": 38,
   "metadata": {},
   "outputs": [
    {
     "data": {
      "image/png": "[encoded data removed]",
      "text/plain": [
       "<Figure size 432x288 with 1 Axes>"
      ]
     },
     "metadata": {
      "needs_background": "light"
     },
     "output_type": "display_data"
    }
   ],
   "source": [
    "legend_elements = [Line2D([0], [0], marker='o', color='w', label='raw images', markerfacecolor='orange'),\n",
    "                   Line2D([0], [0], marker='o', color='w', label='AE', markerfacecolor='blue'),\n",
    "                   Line2D([0], [0], marker='o', color='w', label='VAE', markerfacecolor='green')]\n",
    "\n",
    "plt.figure(figsize=(6,4))\n",
    "plt.plot(ns, res, color=\"green\")\n",
    "plt.plot(ns, res2, color=\"blue\")\n",
    "plt.plot(ns, res3, color=\"orange\")\n",
    "plt.legend(handles=legend_elements)\n",
    "plt.xlabel(\"number of points\")\n",
    "plt.ylabel(\"accuracy\")\n",
    "plt.show()"
   ]
  },
  {
   "cell_type": "code",
   "execution_count": 23,
   "metadata": {},
   "outputs": [],
   "source": [
    "def rep_lpm(n, X_dat, y_dat, k):\n",
    "    ind = np.random.randint(len(y_dat), size=(n))\n",
    "    y_lim = np.repeat(-1, len(y_dat))\n",
    "    y_lim[ind] = y[ind]\n",
    "    X_train = X_dat[y_lim != -1]\n",
    "    X_test = X_dat[y_lim == -1]\n",
    "    y_train = y_dat[y_lim != -1]\n",
    "    y_test = y_dat[y_lim == -1]\n",
    "    lpm = LabelPropagation(kernel='knn',n_neighbors=k,n_jobs=-1,max_iter=5000)\n",
    "    lpm.fit(X_train, y_train)\n",
    "    return lpm.score(X_test, y_test)"
   ]
  },
  {
   "cell_type": "code",
   "execution_count": 24,
   "metadata": {},
   "outputs": [],
   "source": [
    "def test_lpm(n, X_dat, y_dat, k):\n",
    "    max_score = rep_lpm(n, X_dat, y_dat)\n",
    "    for i in range(4):\n",
    "        score = rep_lpm(n, X_dat, y_dat)\n",
    "        if score > max_score:\n",
    "            max_score = score\n",
    "    return max_score"
   ]
  },
  {
   "cell_type": "markdown",
   "metadata": {},
   "source": [
    "## test different models"
   ]
  },
  {
   "cell_type": "code",
   "execution_count": 34,
   "metadata": {},
   "outputs": [],
   "source": [
    "def rep_models(n, X_dat, y_dat):\n",
    "    ind = np.random.randint(len(y_dat), size=(n))\n",
    "    y_lim = np.repeat(-1, len(y_dat))\n",
    "    y_lim[ind] = y[ind]\n",
    "    X_train = X_dat[y_lim != -1]\n",
    "    X_test = X_dat[y_lim == -1]\n",
    "    y_train = y_dat[y_lim != -1]\n",
    "    y_test = y_dat[y_lim == -1]\n",
    "    models = [MLPClassifier, ]\n",
    "    clf = MLPClassifier(hidden_layer_sizes=(200,100,25,5), tol=1e-5)\n",
    "    clf.fit(X_train, y_train)\n",
    "    score1 = clf.score(X_test, y_test)\n",
    "    lpm = LabelPropagation(kernel='knn',n_neighbors=2,max_iter=3000)\n",
    "    lpm.fit(X_train, y_train)\n",
    "    score2 = lpm.score(X_test, y_test)\n",
    "    log = LogisticRegression()\n",
    "    log.fit(X_train, y_train)\n",
    "    score3 = log.score(X_test, y_test)\n",
    "    rf = RandomForestClassifier()\n",
    "    rf.fit(X_train, y_train)\n",
    "    score4 = rf.score(X_test, y_test)\n",
    "    return [score1, score2, score3, score4]"
   ]
  },
  {
   "cell_type": "code",
   "execution_count": 35,
   "metadata": {},
   "outputs": [],
   "source": [
    "def test_models(n, X_dat, y_dat, c=False):\n",
    "    bests = rep_models(n, X_dat, y_dat)\n",
    "    for i in range(4):\n",
    "        new = rep_models(n, X_dat, y_dat)\n",
    "        for i in range(len(bests)):\n",
    "            if new[i] > bests[i]:\n",
    "                bests[i] = new[i]\n",
    "    return bests"
   ]
  },
  {
   "cell_type": "code",
   "execution_count": 36,
   "metadata": {},
   "outputs": [],
   "source": [
    "mres1 = []\n",
    "mres2 = []\n",
    "mres3 = []\n",
    "mres4 = []"
   ]
  },
  {
   "cell_type": "code",
   "execution_count": 37,
   "metadata": {},
   "outputs": [],
   "source": [
    "for n in ns:\n",
    "    a, b, c, d = test_models(n, Xv, y)\n",
    "    mres1.append(a)\n",
    "    mres2.append(b)\n",
    "    mres3.append(c)\n",
    "    mres4.append(d)"
   ]
  },
  {
   "cell_type": "code",
   "execution_count": 39,
   "metadata": {},
   "outputs": [
    {
     "data": {
      "image/png": "[encoded data removed]",
      "text/plain": [
       "<Figure size 432x288 with 1 Axes>"
      ]
     },
     "metadata": {
      "needs_background": "light"
     },
     "output_type": "display_data"
    }
   ],
   "source": [
    "legend_elements = [Line2D([0], [0], marker='o', color='w', label='MLP', markerfacecolor='orange'),\n",
    "                   Line2D([0], [0], marker='o', color='w', label='Label Propagation', markerfacecolor='blue'),\n",
    "                   Line2D([0], [0], marker='o', color='w', label='Logistic Regression', markerfacecolor='green'),\n",
    "                   Line2D([0], [0], marker='o', color='w', label='Random Forest', markerfacecolor='purple')]\n",
    "\n",
    "plt.figure(figsize=(6,4))\n",
    "plt.plot(ns, mres1, color=\"green\")\n",
    "plt.plot(ns, mres2, color=\"blue\")\n",
    "plt.plot(ns, mres3, color=\"orange\")\n",
    "plt.plot(ns, mres4, color=\"purple\")\n",
    "plt.legend(handles=legend_elements)\n",
    "plt.xlabel(\"number of points\")\n",
    "plt.ylabel(\"accuracy\")\n",
    "plt.show()"
   ]
  },
  {
   "cell_type": "code",
   "execution_count": 40,
   "metadata": {},
   "outputs": [],
   "source": [
    "mres1_ = []\n",
    "mres2_ = []\n",
    "mres3_ = []\n",
    "mres4_ = []"
   ]
  },
  {
   "cell_type": "code",
   "execution_count": 41,
   "metadata": {},
   "outputs": [],
   "source": [
    "for n in ns:\n",
    "    a, b, c, d = test_models(n, Xa, y)\n",
    "    mres1_.append(a)\n",
    "    mres2_.append(b)\n",
    "    mres3_.append(c)\n",
    "    mres4_.append(d)"
   ]
  },
  {
   "cell_type": "code",
   "execution_count": 42,
   "metadata": {},
   "outputs": [
    {
     "data": {
      "image/png": "[encoded data removed]",
      "text/plain": [
       "<Figure size 432x288 with 1 Axes>"
      ]
     },
     "metadata": {
      "needs_background": "light"
     },
     "output_type": "display_data"
    }
   ],
   "source": [
    "legend_elements = [Line2D([0], [0], marker='o', color='w', label='MLP', markerfacecolor='orange'),\n",
    "                   Line2D([0], [0], marker='o', color='w', label='Label Propagation', markerfacecolor='blue'),\n",
    "                   Line2D([0], [0], marker='o', color='w', label='Logistic Regression', markerfacecolor='green'),\n",
    "                   Line2D([0], [0], marker='o', color='w', label='Random Forest', markerfacecolor='purple')]\n",
    "\n",
    "plt.figure(figsize=(6,4))\n",
    "plt.plot(ns, mres1_, color=\"green\")\n",
    "plt.plot(ns, mres2_, color=\"blue\")\n",
    "plt.plot(ns, mres3_, color=\"orange\")\n",
    "plt.plot(ns, mres4_, color=\"purple\")\n",
    "plt.legend(handles=legend_elements)\n",
    "plt.xlabel(\"number of points\")\n",
    "plt.ylabel(\"accuracy\")\n",
    "plt.show()"
   ]
  },
  {
   "cell_type": "code",
   "execution_count": 60,
   "metadata": {},
   "outputs": [],
   "source": [
    "def test_models(n, X_dat, y_dat, c=False):\n",
    "    bests = rep_models(n, X_dat, y_dat)\n",
    "    for i in range(4):\n",
    "        new = rep_models(n, X_dat, y_dat)\n",
    "        for i in range(len(bests)):\n",
    "            if new[i] > bests[i]:\n",
    "                bests[i] = new[i]\n",
    "    return bests"
   ]
  },
  {
   "cell_type": "code",
   "execution_count": 61,
   "metadata": {},
   "outputs": [],
   "source": [
    "m_res1_ = []\n",
    "m_res2_ = []\n",
    "m_res3_ = []\n",
    "m_res4_ = []"
   ]
  },
  {
   "cell_type": "code",
   "execution_count": 62,
   "metadata": {},
   "outputs": [],
   "source": [
    "for n in ns:\n",
    "    a, b, c, d = test_models(n, Xa, y)\n",
    "    m_res1_.append(a)\n",
    "    m_res2_.append(b)\n",
    "    m_res3_.append(c)\n",
    "    m_res4_.append(d)"
   ]
  },
  {
   "cell_type": "code",
   "execution_count": 63,
   "metadata": {},
   "outputs": [
    {
     "data": {
      "image/png": "[encoded data removed]",
      "text/plain": [
       "<Figure size 432x288 with 1 Axes>"
      ]
     },
     "metadata": {
      "needs_background": "light"
     },
     "output_type": "display_data"
    }
   ],
   "source": [
    "legend_elements = [Line2D([0], [0], marker='o', color='w', label='MLP', markerfacecolor='orange'),\n",
    "                   Line2D([0], [0], marker='o', color='w', label='Label Propagation', markerfacecolor='blue'),\n",
    "                   Line2D([0], [0], marker='o', color='w', label='Logistic Regression', markerfacecolor='green'),\n",
    "                   Line2D([0], [0], marker='o', color='w', label='Random Forest', markerfacecolor='purple')]\n",
    "\n",
    "plt.figure(figsize=(6,4))\n",
    "plt.plot(ns, m_res1_, color=\"green\")\n",
    "plt.plot(ns, m_res2_, color=\"blue\")\n",
    "plt.plot(ns, m_res3_, color=\"orange\")\n",
    "plt.plot(ns, m_res4_, color=\"purple\")\n",
    "plt.legend(handles=legend_elements)\n",
    "plt.xlabel(\"number of points\")\n",
    "plt.ylabel(\"accuracy\")\n",
    "plt.show()"
   ]
  },
  {
   "cell_type": "markdown",
   "metadata": {},
   "source": [
    "## final model"
   ]
  },
  {
   "cell_type": "code",
   "execution_count": 147,
   "metadata": {},
   "outputs": [],
   "source": [
    "ind = np.random.randint(len(Xv), size=(n_labeled))\n",
    "y_lim = np.repeat(-1, len(y))\n",
    "y_lim[ind] = y[ind]"
   ]
  },
  {
   "cell_type": "code",
   "execution_count": 148,
   "metadata": {},
   "outputs": [],
   "source": [
    "Xa_train = Xa[y_lim != -1]\n",
    "Xa_test = Xa[y_lim == -1]\n",
    "y_train = y[y_lim != -1]\n",
    "y_test = y[y_lim == -1]"
   ]
  },
  {
   "cell_type": "code",
   "execution_count": 149,
   "metadata": {},
   "outputs": [
    {
     "name": "stdout",
     "output_type": "stream",
     "text": [
      "0.6675787965616046\n"
     ]
    },
    {
     "data": {
      "text/plain": [
       "LabelPropagation(kernel='knn', max_iter=5000, n_jobs=-1, n_neighbors=6)"
      ]
     },
     "execution_count": 149,
     "metadata": {},
     "output_type": "execute_result"
    }
   ],
   "source": [
    "test_knn(Xa_train, y_train,Xa_test,y_test, 6)"
   ]
  },
  {
   "cell_type": "code",
   "execution_count": null,
   "metadata": {},
   "outputs": [],
   "source": []
  }
 ],
 "metadata": {
  "kernelspec": {
   "display_name": "Python 3",
   "language": "python",
   "name": "python3"
  },
  "language_info": {
   "codemirror_mode": {
    "name": "ipython",
    "version": 3
   },
   "file_extension": ".py",
   "mimetype": "text/x-python",
   "name": "python",
   "nbconvert_exporter": "python",
   "pygments_lexer": "ipython3",
   "version": "3.8.5"
  }
 },
 "nbformat": 4,
 "nbformat_minor": 4
}
